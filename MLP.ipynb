{
 "cells": [
  {
   "cell_type": "code",
   "execution_count": null,
   "id": "2baeeaa8",
   "metadata": {},
   "outputs": [],
   "source": [
    "import pandas as pd\n",
    "from sklearn.model_selection import train_test_split\n",
    "from sklearn.preprocessing import StandardScaler\n",
    "from tensorflow.keras.models import Sequential\n",
    "from tensorflow.keras.layers import Dense\n",
    "from tensorflow.keras.optimizers import Adam"
   ]
  },
  {
   "cell_type": "code",
   "execution_count": null,
   "id": "be044019",
   "metadata": {},
   "outputs": [],
   "source": [
    "df=pd.read_csv(\"pima-indians-diabetes.csv\")\n",
    "df.shape\n",
    "df=pd.read_csv(\"pima-indians-diabetes.csv\")\n",
    "dataset=df.values\n",
    "x=dataset[:,0:8] \t#need to get the dataset first as 'dataset', need to have 9 columns in the data set but we have to get 8 columns\n",
    "y=dataset[:,8] \n",
    "x_train,x_test,y_train,y_test=train_test_split(x, y, test_size=0.2, random_state=42)\n",
    "y_test"
   ]
  },
  {
   "cell_type": "code",
   "execution_count": null,
   "id": "2d3cbb6b",
   "metadata": {},
   "outputs": [],
   "source": [
    "#model architecture\n",
    "model=Sequential()\n",
    "model.add(Dense(units=12, activation=\"relu\", input_shape=(8,) )) \t#input shape is equals to number of columns in X\n",
    "model.add(Dense(units=1, activation=\"sigmoid\")) #if the Y values is a regression then the activation ='linear' (regression means counting values) ,units =1"
   ]
  },
  {
   "cell_type": "code",
   "execution_count": null,
   "id": "70c2a4d7",
   "metadata": {},
   "outputs": [],
   "source": [
    "#compile model\n",
    "optimizer=Adam(learning_rate=0.01)\n",
    "model.compile(optimizer=optimizer, loss='binary_crossentropy', metrics=['accuracy']) \t\t#if regression then  loss = 'mean_squared_error' , metrics=['mean_absolute_error']\n",
    "history = model.fit(x_train, y_train, epochs=100, batch_size=32, validation_split=0.1)\n",
    "import matplotlib.pyplot as plt"
   ]
  },
  {
   "cell_type": "code",
   "execution_count": null,
   "id": "c8c5eb06",
   "metadata": {},
   "outputs": [],
   "source": [
    "# Plot training history\n",
    "plt.plot(history.history['loss'], label='Training Loss')\n",
    "plt.plot(history.history['val_loss'], label='Validation Loss')\n",
    "plt.legend()\n",
    "plt.show()\n",
    "results = model.evaluate(x_test,y_test)\n",
    "print(\"loss\", results[0])\n",
    "print(\"accuracy\", results[1])"
   ]
  },
  {
   "cell_type": "code",
   "execution_count": null,
   "id": "6a78a721",
   "metadata": {},
   "outputs": [],
   "source": [
    "# Make prediction on the test set\n",
    "prediction = model.predict(x_train)"
   ]
  },
  {
   "cell_type": "code",
   "execution_count": null,
   "id": "8522953a",
   "metadata": {},
   "outputs": [],
   "source": [
    "# Check if the predicted probability is greater than the 0.5\n",
    "predicted_labels = 1 if prediction[0][0] > 0.5 else 0"
   ]
  },
  {
   "cell_type": "code",
   "execution_count": null,
   "id": "7946ee64",
   "metadata": {},
   "outputs": [],
   "source": [
    "# Print the predicted class label\n",
    "print(predicted_labels)"
   ]
  }
 ],
 "metadata": {
  "kernelspec": {
   "display_name": "Python 3 (ipykernel)",
   "language": "python",
   "name": "python3"
  },
  "language_info": {
   "codemirror_mode": {
    "name": "ipython",
    "version": 3
   },
   "file_extension": ".py",
   "mimetype": "text/x-python",
   "name": "python",
   "nbconvert_exporter": "python",
   "pygments_lexer": "ipython3",
   "version": "3.9.13"
  }
 },
 "nbformat": 4,
 "nbformat_minor": 5
}
